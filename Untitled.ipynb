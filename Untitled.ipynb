{
 "cells": [
  {
   "cell_type": "code",
   "execution_count": null,
   "id": "209521c3-5217-4654-a4f3-63fc61b546dd",
   "metadata": {},
   "outputs": [],
   "source": [
    "Q1. Which function is used to open a file? What are the different modes of opening a file? Explain each mode\n",
    "of file opening."
   ]
  },
  {
   "cell_type": "code",
   "execution_count": null,
   "id": "7be8eae7-d18f-4635-9543-34910cf25d7a",
   "metadata": {},
   "outputs": [],
   "source": [
    "Read Only ('r') : Open text file for reading. ...\n",
    "Read and Write ('r+'): Open the file for reading and writing. ...\n",
    "Write Only ('w') : Open the file for writing. ...\n",
    "Write and Read ('w+') : Open the file for reading and writing. ...\n",
    "Append Only ('a'): Open the file for writing."
   ]
  },
  {
   "cell_type": "code",
   "execution_count": null,
   "id": "658c5211-89ed-4dd4-8271-2acb83f42285",
   "metadata": {},
   "outputs": [],
   "source": [
    "Q2. Why close() function is used? Why is it important to close a file?"
   ]
  },
  {
   "cell_type": "code",
   "execution_count": null,
   "id": "7743f46b-2ee2-4f79-ba7c-b984cc4b2776",
   "metadata": {},
   "outputs": [],
   "source": [
    "\n",
    "The close() function shall deallocate the file descriptor indicated by fildes. \n",
    "To deallocate means to make the file descriptor available for return by subsequent calls to open() or other functions that allocate file descriptors.\n",
    "Because files are limited resources managed by the operating system, making sure files are closed after use will protect against hard-to-debug \n",
    "issues like running out of file handles or experiencing corrupted data\n"
   ]
  },
  {
   "cell_type": "code",
   "execution_count": null,
   "id": "d3e414f5-cb2a-4f44-b98a-e53d45947d05",
   "metadata": {},
   "outputs": [],
   "source": [
    "Q4. Explain the following with python code: read(), readline() and readlines()."
   ]
  },
  {
   "cell_type": "code",
   "execution_count": null,
   "id": "b6cc04b1-8296-4ef6-b4fe-abebf03edfa9",
   "metadata": {},
   "outputs": [],
   "source": [
    "# Python program to\n",
    "# demonstrate with\n",
    "# statement\n",
    " \n",
    "L = [\"Geeks\\n\", \"for\\n\", \"Geeks\\n\"]\n",
    " \n",
    " \n",
    "# Writing to file\n",
    "with open(\"myfile.txt\", \"w\") as fp:\n",
    "    fp.writelines(L)\n",
    " \n",
    " \n",
    "# using readlines()\n",
    "count = 0\n",
    "print(\"Using readlines()\")\n",
    " \n",
    "with open(\"myfile.txt\") as fp:\n",
    "    Lines = fp.readlines()\n",
    "    for line in Lines:\n",
    "        count += 1\n",
    "        print(\"Line{}: {}\".format(count, line.strip()))\n",
    " \n",
    " \n",
    "# Using readline()\n",
    "count = 0\n",
    "print(\"\\nUsing readline()\")\n",
    " \n",
    "with open(\"myfile.txt\") as fp:\n",
    "    while True:\n",
    "        count += 1\n",
    "        line = fp.readline()\n",
    " \n",
    "        if not line:\n",
    "            break\n",
    "        print(\"Line{}: {}\".format(count, line.strip()))\n",
    " \n",
    " \n",
    "# Using for loop\n",
    "count = 0\n",
    "print(\"\\nUsing for loop\")\n",
    " \n",
    "with open(\"myfile.txt\") as fp:\n",
    "    for line in fp:\n",
    "        count += 1\n",
    "        print(\"Line{}: {}\".format(count, line.strip()))"
   ]
  },
  {
   "cell_type": "code",
   "execution_count": null,
   "id": "2af6c8fc-a770-4d71-ad70-177ffd7f191d",
   "metadata": {},
   "outputs": [],
   "source": [
    "Q5. Explain why with statement is used with open(). What is the advantage of using with statement and\n",
    "open() together?"
   ]
  },
  {
   "cell_type": "code",
   "execution_count": null,
   "id": "a2718ad3-4272-4cea-87b9-000d9713ed23",
   "metadata": {},
   "outputs": [],
   "source": [
    "with open(\"hello.txt\", \"w\") as my_file:\n",
    "    my_file.write(\"Hello world \\n\")\n",
    "    my_file.write(\"I hope you're doing well today \\n\")\n",
    "    my_file.write(\"This is a text file \\n\")\n",
    "    my_file.write(\"Have a nice time \\n\")\n",
    "\n",
    "with open(\"hello.txt\") as my_file:\n",
    "    print(my_file.read())"
   ]
  },
  {
   "cell_type": "code",
   "execution_count": null,
   "id": "2f747050-e68c-48fd-bc8d-c91be16ad455",
   "metadata": {},
   "outputs": [],
   "source": []
  }
 ],
 "metadata": {
  "kernelspec": {
   "display_name": "Python 3 (ipykernel)",
   "language": "python",
   "name": "python3"
  },
  "language_info": {
   "codemirror_mode": {
    "name": "ipython",
    "version": 3
   },
   "file_extension": ".py",
   "mimetype": "text/x-python",
   "name": "python",
   "nbconvert_exporter": "python",
   "pygments_lexer": "ipython3",
   "version": "3.10.8"
  }
 },
 "nbformat": 4,
 "nbformat_minor": 5
}
